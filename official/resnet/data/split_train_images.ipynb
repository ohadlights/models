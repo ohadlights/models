{
 "cells": [
  {
   "cell_type": "markdown",
   "metadata": {
    "collapsed": true
   },
   "source": [
    "### Imports"
   ]
  },
  {
   "cell_type": "code",
   "execution_count": 9,
   "metadata": {
    "collapsed": true
   },
   "outputs": [],
   "source": [
    "import random\n",
    "import pandas as pd"
   ]
  },
  {
   "cell_type": "markdown",
   "metadata": {},
   "source": [
    "### Load data files"
   ]
  },
  {
   "cell_type": "code",
   "execution_count": 71,
   "metadata": {},
   "outputs": [
    {
     "name": "stdout",
     "output_type": "stream",
     "text": [
      "            ImageID        Source  LabelName  Confidence\n0  000002b66c9c498e  verification  /m/01g317           1\n1  000002b66c9c498e  verification   /m/09j2d           1\n2  000002b66c9c498e  verification   /m/0dzct           1\n3  000002b97e5471a0  verification   /m/0cgh4           1\n4  000002c707c9895e  verification  /m/01g317           1\n"
     ]
    }
   ],
   "source": [
    "train_human_labels_trainable_top_10 = pd.read_csv(r'\\\\ger\\ec\\proj\\ha\\RSG\\FacePublicDatasets\\OpenImages\\InclusiveChallenge\\docs\\train_human_labels_trainable_top_10.csv')\n",
    "train_human_labels_trainable_top_100 = pd.read_csv(r'\\\\ger\\ec\\proj\\ha\\RSG\\FacePublicDatasets\\OpenImages\\InclusiveChallenge\\docs\\train_human_labels_trainable_top_100.csv')\n",
    "print(train_human_labels_trainable_top_10.head())"
   ]
  },
  {
   "cell_type": "markdown",
   "metadata": {},
   "source": [
    "### Sort lables frequency"
   ]
  },
  {
   "cell_type": "code",
   "execution_count": 72,
   "metadata": {},
   "outputs": [
    {
     "name": "stdout",
     "output_type": "stream",
     "text": [
      "/m/01g317    807090\n/m/09j2d     610840\n/m/0dzct     331942\n/m/07j7r     315026\n/m/05s2s     266978\nName: LabelName, dtype: int64\n"
     ]
    }
   ],
   "source": [
    "labels_count = train_human_labels_trainable_top_100['LabelName'].value_counts()\n",
    "print(labels_count.head())"
   ]
  },
  {
   "cell_type": "markdown",
   "metadata": {},
   "source": [
    "### Merge labels with labels_count"
   ]
  },
  {
   "cell_type": "code",
   "execution_count": 73,
   "metadata": {
    "collapsed": false
   },
   "outputs": [
    {
     "data": {
      "text/html": [
       "<div>\n",
       "<style scoped>\n",
       "    .dataframe tbody tr th:only-of-type {\n",
       "        vertical-align: middle;\n",
       "    }\n",
       "\n",
       "    .dataframe tbody tr th {\n",
       "        vertical-align: top;\n",
       "    }\n",
       "\n",
       "    .dataframe thead th {\n",
       "        text-align: right;\n",
       "    }\n",
       "</style>\n",
       "<table border=\"1\" class=\"dataframe\">\n",
       "  <thead>\n",
       "    <tr style=\"text-align: right;\">\n",
       "      <th></th>\n",
       "      <th>ImageID</th>\n",
       "      <th>Source</th>\n",
       "      <th>LabelName</th>\n",
       "      <th>Confidence</th>\n",
       "      <th>freq</th>\n",
       "    </tr>\n",
       "  </thead>\n",
       "  <tbody>\n",
       "    <tr>\n",
       "      <th>0</th>\n",
       "      <td>000002b66c9c498e</td>\n",
       "      <td>verification</td>\n",
       "      <td>/m/01g317</td>\n",
       "      <td>1</td>\n",
       "      <td>807090</td>\n",
       "    </tr>\n",
       "    <tr>\n",
       "      <th>1</th>\n",
       "      <td>000002b66c9c498e</td>\n",
       "      <td>verification</td>\n",
       "      <td>/m/09j2d</td>\n",
       "      <td>1</td>\n",
       "      <td>610840</td>\n",
       "    </tr>\n",
       "    <tr>\n",
       "      <th>2</th>\n",
       "      <td>000002b66c9c498e</td>\n",
       "      <td>verification</td>\n",
       "      <td>/m/0dzct</td>\n",
       "      <td>1</td>\n",
       "      <td>331942</td>\n",
       "    </tr>\n",
       "    <tr>\n",
       "      <th>3</th>\n",
       "      <td>000002b97e5471a0</td>\n",
       "      <td>verification</td>\n",
       "      <td>/m/0cgh4</td>\n",
       "      <td>1</td>\n",
       "      <td>183125</td>\n",
       "    </tr>\n",
       "    <tr>\n",
       "      <th>4</th>\n",
       "      <td>000002c707c9895e</td>\n",
       "      <td>verification</td>\n",
       "      <td>/m/01g317</td>\n",
       "      <td>1</td>\n",
       "      <td>807090</td>\n",
       "    </tr>\n",
       "  </tbody>\n",
       "</table>\n",
       "</div>"
      ],
      "text/plain": [
       "<div>\n",
       "<style scoped>\n",
       "    .dataframe tbody tr th:only-of-type {\n",
       "        vertical-align: middle;\n",
       "    }\n",
       "\n",
       "    .dataframe tbody tr th {\n",
       "        vertical-align: top;\n",
       "    }\n",
       "\n",
       "    .dataframe thead th {\n",
       "        text-align: right;\n",
       "    }\n",
       "</style>\n",
       "<table border=\"1\" class=\"dataframe\">\n",
       "  <thead>\n",
       "    <tr style=\"text-align: right;\">\n",
       "      <th></th>\n",
       "      <th>ImageID</th>\n",
       "      <th>Source</th>\n",
       "      <th>LabelName</th>\n",
       "      <th>Confidence</th>\n",
       "      <th>freq</th>\n",
       "    </tr>\n",
       "  </thead>\n",
       "  <tbody>\n",
       "    <tr>\n",
       "      <th>0</th>\n",
       "      <td>000002b66c9c498e</td>\n",
       "      <td>verification</td>\n",
       "      <td>/m/01g317</td>\n",
       "      <td>1</td>\n",
       "      <td>807090</td>\n",
       "    </tr>\n",
       "    <tr>\n",
       "      <th>1</th>\n",
       "      <td>000002b66c9c498e</td>\n",
       "      <td>verification</td>\n",
       "      <td>/m/09j2d</td>\n",
       "      <td>1</td>\n",
       "      <td>610840</td>\n",
       "    </tr>\n",
       "    <tr>\n",
       "      <th>2</th>\n",
       "      <td>000002b66c9c498e</td>\n",
       "      <td>verification</td>\n",
       "      <td>/m/0dzct</td>\n",
       "      <td>1</td>\n",
       "      <td>331942</td>\n",
       "    </tr>\n",
       "    <tr>\n",
       "      <th>3</th>\n",
       "      <td>000002b97e5471a0</td>\n",
       "      <td>verification</td>\n",
       "      <td>/m/0cgh4</td>\n",
       "      <td>1</td>\n",
       "      <td>183125</td>\n",
       "    </tr>\n",
       "    <tr>\n",
       "      <th>4</th>\n",
       "      <td>000002c707c9895e</td>\n",
       "      <td>verification</td>\n",
       "      <td>/m/01g317</td>\n",
       "      <td>1</td>\n",
       "      <td>807090</td>\n",
       "    </tr>\n",
       "  </tbody>\n",
       "</table>\n",
       "</div>"
      ]
     },
     "execution_count": 73,
     "metadata": {},
     "output_type": "execute_result"
    }
   ],
   "source": [
    "train_human_labels_trainable_top_10 = train_human_labels_trainable_top_10.merge(labels_count.to_frame(), left_on='LabelName', right_index=True, how='left')\n",
    "train_human_labels_trainable_top_10.rename(columns={'LabelName_x': 'LabelName', 'LabelName_y': 'freq'}, inplace=True)\n",
    "train_human_labels_trainable_top_10.head()"
   ]
  },
  {
   "cell_type": "markdown",
   "metadata": {},
   "source": [
    "### Group labels by image id"
   ]
  },
  {
   "cell_type": "code",
   "execution_count": 74,
   "metadata": {},
   "outputs": [],
   "source": [
    "top_10_grouped = train_human_labels_trainable_top_10.groupby(['ImageID'])\n",
    "top_100_grouped = train_human_labels_trainable_top_100.groupby(['ImageID'])"
   ]
  },
  {
   "cell_type": "markdown",
   "metadata": {},
   "source": [
    "### Split defs"
   ]
  },
  {
   "cell_type": "code",
   "execution_count": 75,
   "metadata": {},
   "outputs": [],
   "source": [
    "val_images_count = 10000"
   ]
  },
  {
   "cell_type": "markdown",
   "metadata": {},
   "source": [
    "### Split top 10"
   ]
  },
  {
   "cell_type": "code",
   "execution_count": 76,
   "metadata": {},
   "outputs": [
    {
     "name": "stdout",
     "output_type": "stream",
     "text": [
      "len(top_10_images) = 1376466\n"
     ]
    },
    {
     "name": "stdout",
     "output_type": "stream",
     "text": [
      "len(top_10_images_train) = 1366466\nlen(top_10_images_val) = 10000\n"
     ]
    }
   ],
   "source": [
    "top_10_images = list(top_10_grouped.groups.keys())\n",
    "print('len(top_10_images) = {}'.format(len(top_10_images)))\n",
    "random.shuffle(top_10_images)\n",
    "top_10_images_train = set(top_10_images[:-val_images_count])\n",
    "top_10_images_val = set(top_10_images[-val_images_count:])\n",
    "print('len(top_10_images_train) = {}'.format(len(top_10_images_train)))\n",
    "print('len(top_10_images_val) = {}'.format(len(top_10_images_val)))"
   ]
  },
  {
   "cell_type": "code",
   "execution_count": 88,
   "metadata": {},
   "outputs": [],
   "source": [
    "with open(r'\\\\ger\\ec\\proj\\ha\\RSG\\FacePublicDatasets\\OpenImages\\InclusiveChallenge\\lists\\top_10_images_train_single.txt', 'w') as f_train,\\\n",
    "    open(r'\\\\ger\\ec\\proj\\ha\\RSG\\FacePublicDatasets\\OpenImages\\InclusiveChallenge\\lists\\top_10_images_val_single.txt', 'w') as f_val:\n",
    "    for name, group in top_10_grouped:\n",
    "        f = f_val if name in top_10_images_val else f_train\n",
    "        first_row = group.sort_values(by=['freq'], ascending=False).head(1)\n",
    "        f.write('{} {}\\n'.format(name, first_row['LabelName'].values[0]))"
   ]
  },
  {
   "cell_type": "code",
   "execution_count": null,
   "metadata": {},
   "outputs": [],
   "source": []
  }
 ],
 "metadata": {
  "kernelspec": {
   "display_name": "Python 2",
   "language": "python",
   "name": "python2"
  },
  "language_info": {
   "codemirror_mode": {
    "name": "ipython",
    "version": 2
   },
   "file_extension": ".py",
   "mimetype": "text/x-python",
   "name": "python",
   "nbconvert_exporter": "python",
   "pygments_lexer": "ipython2",
   "version": "2.7.6"
  }
 },
 "nbformat": 4,
 "nbformat_minor": 0
}

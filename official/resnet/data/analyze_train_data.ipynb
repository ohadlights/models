{
 "cells": [
  {
   "cell_type": "markdown",
   "metadata": {
    "collapsed": true
   },
   "source": [
    "### Imports"
   ]
  },
  {
   "cell_type": "code",
   "execution_count": null,
   "metadata": {
    "collapsed": true
   },
   "outputs": [],
   "source": [
    "import pandas as pd"
   ]
  },
  {
   "cell_type": "markdown",
   "metadata": {
    "collapsed": true
   },
   "source": [
    "### Load data files\n"
   ]
  },
  {
   "cell_type": "code",
   "execution_count": null,
   "metadata": {},
   "outputs": [],
   "source": [
    "classes_trainable = pd.read_csv(r'\\\\ger\\ec\\proj\\ha\\RSG\\FacePublicDatasets\\OpenImages\\InclusiveChallenge\\docs\\classes-trainable.csv')\n",
    "class_descriptions = pd.read_csv(r'\\\\ger\\ec\\proj\\ha\\RSG\\FacePublicDatasets\\OpenImages\\InclusiveChallenge\\docs\\class-descriptions.csv')\n",
    "train_human_labels = pd.read_csv(r'\\\\ger\\ec\\proj\\ha\\RSG\\FacePublicDatasets\\OpenImages\\InclusiveChallenge\\docs\\train_human_labels.csv')\n",
    "train_machine_labels = pd.read_csv(r'\\\\ger\\ec\\proj\\ha\\RSG\\FacePublicDatasets\\OpenImages\\InclusiveChallenge\\docs\\train_machine_labels.csv')\n",
    "train_bounding_boxes = pd.read_csv(r'\\\\ger\\ec\\proj\\ha\\RSG\\FacePublicDatasets\\OpenImages\\InclusiveChallenge\\docs\\train_bounding_boxes.csv')"
   ]
  },
  {
   "cell_type": "markdown",
   "metadata": {
    "collapsed": true
   },
   "source": [
    "### Analyze"
   ]
  },
  {
   "cell_type": "code",
   "execution_count": 70,
   "metadata": {},
   "outputs": [
    {
     "name": "stdout",
     "output_type": "stream",
     "text": [
      "len(classes_trainable) = 7178\n\n    label_code\n0  /m/0108_09c\n1    /m/010dmf\n2    /m/010jjr\n3    /m/010l12\n4  /m/010lq47b\n"
     ]
    }
   ],
   "source": [
    "print('len(classes_trainable) = {}\\n'.format(len(classes_trainable)))\n",
    "print(classes_trainable.head())"
   ]
  },
  {
   "cell_type": "code",
   "execution_count": 10,
   "metadata": {},
   "outputs": [
    {
     "name": "stdout",
     "output_type": "stream",
     "text": [
      "len(class description) = 19987\n\n    label_code          description\n0  /m/0100nhbf     Sprenger's tulip\n1  /m/0104x9kv             Vinegret\n2  /m/0105jzwx            Dabu-dabu\n3  /m/0105ld7g  Pistachio ice cream\n4  /m/0105lxy5                 Woku\n"
     ]
    }
   ],
   "source": [
    "print('len(class description) = {}\\n'.format(len(class_descriptions)))\n",
    "print(class_descriptions.head())"
   ]
  },
  {
   "cell_type": "code",
   "execution_count": 14,
   "metadata": {},
   "outputs": [
    {
     "name": "stdout",
     "output_type": "stream",
     "text": [
      "len(train_human_labels) = 8036466\nlen(train_machine_labels) = 15259186\n\n\n            ImageID                    Source  LabelName  Confidence\n0  000002b66c9c498e  crowdsource-verification  /m/01kcnl           1\n1  000002b66c9c498e              verification   /m/012mj           1\n2  000002b66c9c498e              verification  /m/012yh1           1\n3  000002b66c9c498e              verification  /m/014sv8           1\n4  000002b66c9c498e              verification  /m/016c68           1\n\n\n            ImageID   Source   LabelName  Confidence\n0  000002b66c9c498e  machine    /m/05_4_         0.7\n1  000002b66c9c498e  machine    /m/0krfg         0.7\n2  000002b66c9c498e  machine   /m/01kcnl         0.5\n3  000002b97e5471a0  machine  /m/05_5t0l         0.9\n4  000002b97e5471a0  machine    /m/0cgh4         0.8\n"
     ]
    }
   ],
   "source": [
    "print('len(train_human_labels) = {}'.format(len(train_human_labels)))\n",
    "print('len(train_machine_labels) = {}'.format(len(train_machine_labels)))\n",
    "print('\\n')\n",
    "print(train_human_labels.head())\n",
    "print('\\n')\n",
    "print(train_machine_labels.head())"
   ]
  },
  {
   "cell_type": "markdown",
   "metadata": {},
   "source": [
    "### Take annotations only for trainable labels"
   ]
  },
  {
   "cell_type": "code",
   "execution_count": 72,
   "metadata": {},
   "outputs": [],
   "source": [
    "train_human_labels_trainable = train_human_labels[train_human_labels['LabelName'].isin(classes_trainable['label_code'])]\n",
    "train_machine_labels_trainable = train_machine_labels[train_machine_labels['LabelName'].isin(classes_trainable['label_code'])]"
   ]
  },
  {
   "cell_type": "markdown",
   "metadata": {},
   "source": [
    "### Top labels (10/100)"
   ]
  },
  {
   "cell_type": "code",
   "execution_count": 80,
   "metadata": {},
   "outputs": [
    {
     "name": "stdout",
     "output_type": "stream",
     "text": [
      "/m/01g317    807090\n/m/09j2d     610840\n/m/0dzct     331942\n/m/07j7r     315026\n/m/05s2s     266978\nName: LabelName, dtype: int64\n"
     ]
    }
   ],
   "source": [
    "train_human_labels_values_count = train_human_labels_trainable['LabelName'].value_counts()\n",
    "print(train_human_labels_values_count.head())"
   ]
  },
  {
   "cell_type": "code",
   "execution_count": 96,
   "metadata": {},
   "outputs": [],
   "source": [
    "top_10_labels = train_human_labels_values_count.head(10)\n",
    "top_100_labels = train_human_labels_values_count.head(100)"
   ]
  },
  {
   "cell_type": "markdown",
   "metadata": {},
   "source": [
    "### Class descriptions for top labels"
   ]
  },
  {
   "cell_type": "code",
   "execution_count": 100,
   "metadata": {},
   "outputs": [
    {
     "name": "stdout",
     "output_type": "stream",
     "text": [
      "      label_code   description\n1206   /m/01g317        Person\n1924   /m/01prls  Land vehicle\n11909   /m/05s2s         Plant\n13801   /m/07j7r          Tree\n14184   /m/07yv9       Vehicle\n15243   /m/09j2d      Clothing\n15245   /m/09j5n      Footwear\n16452   /m/0cgh4      Building\n17402   /m/0dzct    Human face\n19338    /m/0jbk        Animal\n"
     ]
    }
   ],
   "source": [
    "class_descriptions_top_10 = class_descriptions.merge(top_10_labels.to_frame(), left_on='label_code', right_index=True, how='inner')\n",
    "class_descriptions_top_10.drop(columns=['LabelName'], inplace=True)\n",
    "print(class_descriptions_top_10)\n",
    "class_descriptions_top_10.to_csv(r'\\\\ger\\ec\\proj\\ha\\RSG\\FacePublicDatasets\\OpenImages\\InclusiveChallenge\\docs\\class-descriptions_top_10.csv', index=False, header=False)"
   ]
  },
  {
   "cell_type": "code",
   "execution_count": 101,
   "metadata": {},
   "outputs": [
    {
     "name": "stdout",
     "output_type": "stream",
     "text": [
      "len(class_descriptions_top_100) = 100\n"
     ]
    }
   ],
   "source": [
    "class_descriptions_top_100 = class_descriptions.merge(top_100_labels.to_frame(), left_on='label_code', right_index=True, how='inner')\n",
    "class_descriptions_top_100.drop(columns=['LabelName'], inplace=True)\n",
    "print('len(class_descriptions_top_100) = {}'.format(len(class_descriptions_top_100)))\n",
    "class_descriptions_top_100.to_csv(r'\\\\ger\\ec\\proj\\ha\\RSG\\FacePublicDatasets\\OpenImages\\InclusiveChallenge\\docs\\class-descriptions_top_100.csv', index=False, header=False)"
   ]
  },
  {
   "cell_type": "markdown",
   "metadata": {},
   "source": [
    "### Create files with only trainable labels"
   ]
  },
  {
   "cell_type": "code",
   "execution_count": 102,
   "metadata": {},
   "outputs": [
    {
     "name": "stdout",
     "output_type": "stream",
     "text": [
      "len(train_human_labels_trainable) = 7117742\nlen(train_machine_labels_trainable) = 13409172\n"
     ]
    }
   ],
   "source": [
    "print('len(train_human_labels_trainable) = {}'.format(len(train_human_labels_trainable)))\n",
    "print('len(train_machine_labels_trainable) = {}'.format(len(train_machine_labels_trainable)))"
   ]
  },
  {
   "cell_type": "code",
   "execution_count": 103,
   "metadata": {},
   "outputs": [],
   "source": [
    "train_human_labels_trainable.to_csv(r'\\\\ger\\ec\\proj\\ha\\RSG\\FacePublicDatasets\\OpenImages\\InclusiveChallenge\\docs\\train_human_labels_trainable.csv', index=False)\n",
    "train_machine_labels_trainable.to_csv(r'\\\\ger\\ec\\proj\\ha\\RSG\\FacePublicDatasets\\OpenImages\\InclusiveChallenge\\docs\\train_machine_labels_trainable.csv', index=False)"
   ]
  },
  {
   "cell_type": "markdown",
   "metadata": {},
   "source": [
    "### Create files with top trainable lables (10/100)"
   ]
  },
  {
   "cell_type": "code",
   "execution_count": 105,
   "metadata": {},
   "outputs": [
    {
     "name": "stdout",
     "output_type": "stream",
     "text": [
      "len(train_human_labels_trainable_top_10) = 3166864\n"
     ]
    }
   ],
   "source": [
    "train_human_labels_trainable_top_10 = train_human_labels_trainable[train_human_labels_trainable['LabelName'].isin(top_10_labels.index)]\n",
    "print('len(train_human_labels_trainable_top_10) = {}'.format(len(train_human_labels_trainable_top_10)))"
   ]
  },
  {
   "cell_type": "code",
   "execution_count": 107,
   "metadata": {},
   "outputs": [
    {
     "name": "stdout",
     "output_type": "stream",
     "text": [
      "len(train_human_labels_trainable_top_10) = 5549576\n"
     ]
    }
   ],
   "source": [
    "train_human_labels_trainable_top_100 = train_human_labels_trainable[train_human_labels_trainable['LabelName'].isin(top_100_labels.index)]\n",
    "print('len(train_human_labels_trainable_top_10) = {}'.format(len(train_human_labels_trainable_top_100)))"
   ]
  },
  {
   "cell_type": "code",
   "execution_count": 108,
   "metadata": {},
   "outputs": [],
   "source": [
    "train_human_labels_trainable_top_10.to_csv(r'\\\\ger\\ec\\proj\\ha\\RSG\\FacePublicDatasets\\OpenImages\\InclusiveChallenge\\docs\\train_human_labels_trainable_top_10.csv', index=False)\n",
    "train_human_labels_trainable_top_100.to_csv(r'\\\\ger\\ec\\proj\\ha\\RSG\\FacePublicDatasets\\OpenImages\\InclusiveChallenge\\docs\\train_human_labels_trainable_top_100.csv', index=False)"
   ]
  },
  {
   "cell_type": "code",
   "execution_count": null,
   "metadata": {},
   "outputs": [],
   "source": []
  }
 ],
 "metadata": {
  "kernelspec": {
   "display_name": "Python 2",
   "language": "python",
   "name": "python2"
  },
  "language_info": {
   "codemirror_mode": {
    "name": "ipython",
    "version": 2
   },
   "file_extension": ".py",
   "mimetype": "text/x-python",
   "name": "python",
   "nbconvert_exporter": "python",
   "pygments_lexer": "ipython2",
   "version": "2.7.6"
  }
 },
 "nbformat": 4,
 "nbformat_minor": 0
}

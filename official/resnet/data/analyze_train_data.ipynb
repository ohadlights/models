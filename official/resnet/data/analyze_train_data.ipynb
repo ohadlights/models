{
 "cells": [
  {
   "cell_type": "markdown",
   "metadata": {
    "collapsed": true
   },
   "source": [
    "### Imports"
   ]
  },
  {
   "cell_type": "code",
   "execution_count": null,
   "metadata": {
    "collapsed": true
   },
   "outputs": [],
   "source": [
    "import pandas as pd"
   ]
  },
  {
   "cell_type": "markdown",
   "metadata": {
    "collapsed": true
   },
   "source": [
    "### Load data files\n"
   ]
  },
  {
   "cell_type": "code",
   "execution_count": null,
   "metadata": {},
   "outputs": [],
   "source": [
    "classes_trainable = pd.read_csv(r'\\\\ger\\ec\\proj\\ha\\RSG\\FacePublicDatasets\\OpenImages\\InclusiveChallenge\\docs\\classes-trainable.csv')\n",
    "class_descriptions = pd.read_csv(r'\\\\ger\\ec\\proj\\ha\\RSG\\FacePublicDatasets\\OpenImages\\InclusiveChallenge\\docs\\class-descriptions.csv')\n",
    "train_human_labels = pd.read_csv(r'\\\\ger\\ec\\proj\\ha\\RSG\\FacePublicDatasets\\OpenImages\\InclusiveChallenge\\docs\\train_human_labels.csv')\n",
    "train_machine_labels = pd.read_csv(r'\\\\ger\\ec\\proj\\ha\\RSG\\FacePublicDatasets\\OpenImages\\InclusiveChallenge\\docs\\train_machine_labels.csv')\n",
    "train_bounding_boxes = pd.read_csv(r'\\\\ger\\ec\\proj\\ha\\RSG\\FacePublicDatasets\\OpenImages\\InclusiveChallenge\\docs\\train_bounding_boxes.csv')"
   ]
  },
  {
   "cell_type": "markdown",
   "metadata": {
    "collapsed": true
   },
   "source": [
    "### Analyze"
   ]
  },
  {
   "cell_type": "code",
   "execution_count": null,
   "metadata": {},
   "outputs": [],
   "source": [
    "print('len(classes_trainable) = {}\\n'.format(len(classes_trainable)))\n",
    "print(classes_trainable.head())"
   ]
  },
  {
   "cell_type": "code",
   "execution_count": 10,
   "metadata": {},
   "outputs": [
    {
     "name": "stdout",
     "output_type": "stream",
     "text": [
      "len(class description) = 19987\n\n    label_code          description\n0  /m/0100nhbf     Sprenger's tulip\n1  /m/0104x9kv             Vinegret\n2  /m/0105jzwx            Dabu-dabu\n3  /m/0105ld7g  Pistachio ice cream\n4  /m/0105lxy5                 Woku\n"
     ]
    }
   ],
   "source": [
    "print('len(class description) = {}\\n'.format(len(class_descriptions)))\n",
    "print(class_descriptions.head())"
   ]
  },
  {
   "cell_type": "code",
   "execution_count": 14,
   "metadata": {},
   "outputs": [
    {
     "name": "stdout",
     "output_type": "stream",
     "text": [
      "len(train_human_labels) = 8036466\nlen(train_machine_labels) = 15259186\n\n\n            ImageID                    Source  LabelName  Confidence\n0  000002b66c9c498e  crowdsource-verification  /m/01kcnl           1\n1  000002b66c9c498e              verification   /m/012mj           1\n2  000002b66c9c498e              verification  /m/012yh1           1\n3  000002b66c9c498e              verification  /m/014sv8           1\n4  000002b66c9c498e              verification  /m/016c68           1\n\n\n            ImageID   Source   LabelName  Confidence\n0  000002b66c9c498e  machine    /m/05_4_         0.7\n1  000002b66c9c498e  machine    /m/0krfg         0.7\n2  000002b66c9c498e  machine   /m/01kcnl         0.5\n3  000002b97e5471a0  machine  /m/05_5t0l         0.9\n4  000002b97e5471a0  machine    /m/0cgh4         0.8\n"
     ]
    }
   ],
   "source": [
    "print('len(train_human_labels) = {}'.format(len(train_human_labels)))\n",
    "print('len(train_machine_labels) = {}'.format(len(train_machine_labels)))\n",
    "print('\\n')\n",
    "print(train_human_labels.head())\n",
    "print('\\n')\n",
    "print(train_machine_labels.head())"
   ]
  },
  {
   "cell_type": "markdown",
   "metadata": {},
   "source": [
    "### Top labels"
   ]
  },
  {
   "cell_type": "code",
   "execution_count": 30,
   "metadata": {},
   "outputs": [
    {
     "name": "stdout",
     "output_type": "stream",
     "text": [
      "/m/01g317    807090\n/m/09j2d     610840\n/m/04yx4     378360\n/m/0dzct     331942\n/m/07j7r     315026\nName: LabelName, dtype: int64\n"
     ]
    }
   ],
   "source": [
    "train_human_labels_values_count = train_human_labels['LabelName'].value_counts()\n",
    "print(train_human_labels_values_count.head())"
   ]
  },
  {
   "cell_type": "markdown",
   "metadata": {},
   "source": [
    "### Create files with only trainable labels"
   ]
  },
  {
   "cell_type": "code",
   "execution_count": 51,
   "metadata": {},
   "outputs": [
    {
     "data": {
      "text/html": [
       "<div>\n",
       "<style scoped>\n",
       "    .dataframe tbody tr th:only-of-type {\n",
       "        vertical-align: middle;\n",
       "    }\n",
       "\n",
       "    .dataframe tbody tr th {\n",
       "        vertical-align: top;\n",
       "    }\n",
       "\n",
       "    .dataframe thead th {\n",
       "        text-align: right;\n",
       "    }\n",
       "</style>\n",
       "<table border=\"1\" class=\"dataframe\">\n",
       "  <thead>\n",
       "    <tr style=\"text-align: right;\">\n",
       "      <th></th>\n",
       "      <th>ImageID</th>\n",
       "      <th>Source</th>\n",
       "      <th>LabelName</th>\n",
       "      <th>Confidence</th>\n",
       "    </tr>\n",
       "  </thead>\n",
       "  <tbody>\n",
       "    <tr>\n",
       "      <th>0</th>\n",
       "      <td>000002b66c9c498e</td>\n",
       "      <td>crowdsource-verification</td>\n",
       "      <td>/m/01kcnl</td>\n",
       "      <td>1</td>\n",
       "    </tr>\n",
       "    <tr>\n",
       "      <th>1</th>\n",
       "      <td>000002b66c9c498e</td>\n",
       "      <td>verification</td>\n",
       "      <td>/m/012mj</td>\n",
       "      <td>1</td>\n",
       "    </tr>\n",
       "    <tr>\n",
       "      <th>2</th>\n",
       "      <td>000002b66c9c498e</td>\n",
       "      <td>verification</td>\n",
       "      <td>/m/012yh1</td>\n",
       "      <td>1</td>\n",
       "    </tr>\n",
       "    <tr>\n",
       "      <th>3</th>\n",
       "      <td>000002b66c9c498e</td>\n",
       "      <td>verification</td>\n",
       "      <td>/m/014sv8</td>\n",
       "      <td>1</td>\n",
       "    </tr>\n",
       "    <tr>\n",
       "      <th>4</th>\n",
       "      <td>000002b66c9c498e</td>\n",
       "      <td>verification</td>\n",
       "      <td>/m/016c68</td>\n",
       "      <td>1</td>\n",
       "    </tr>\n",
       "  </tbody>\n",
       "</table>\n",
       "</div>"
      ],
      "text/plain": [
       "<div>\n",
       "<style scoped>\n",
       "    .dataframe tbody tr th:only-of-type {\n",
       "        vertical-align: middle;\n",
       "    }\n",
       "\n",
       "    .dataframe tbody tr th {\n",
       "        vertical-align: top;\n",
       "    }\n",
       "\n",
       "    .dataframe thead th {\n",
       "        text-align: right;\n",
       "    }\n",
       "</style>\n",
       "<table border=\"1\" class=\"dataframe\">\n",
       "  <thead>\n",
       "    <tr style=\"text-align: right;\">\n",
       "      <th></th>\n",
       "      <th>ImageID</th>\n",
       "      <th>Source</th>\n",
       "      <th>LabelName</th>\n",
       "      <th>Confidence</th>\n",
       "    </tr>\n",
       "  </thead>\n",
       "  <tbody>\n",
       "    <tr>\n",
       "      <th>0</th>\n",
       "      <td>000002b66c9c498e</td>\n",
       "      <td>crowdsource-verification</td>\n",
       "      <td>/m/01kcnl</td>\n",
       "      <td>1</td>\n",
       "    </tr>\n",
       "    <tr>\n",
       "      <th>1</th>\n",
       "      <td>000002b66c9c498e</td>\n",
       "      <td>verification</td>\n",
       "      <td>/m/012mj</td>\n",
       "      <td>1</td>\n",
       "    </tr>\n",
       "    <tr>\n",
       "      <th>2</th>\n",
       "      <td>000002b66c9c498e</td>\n",
       "      <td>verification</td>\n",
       "      <td>/m/012yh1</td>\n",
       "      <td>1</td>\n",
       "    </tr>\n",
       "    <tr>\n",
       "      <th>3</th>\n",
       "      <td>000002b66c9c498e</td>\n",
       "      <td>verification</td>\n",
       "      <td>/m/014sv8</td>\n",
       "      <td>1</td>\n",
       "    </tr>\n",
       "    <tr>\n",
       "      <th>4</th>\n",
       "      <td>000002b66c9c498e</td>\n",
       "      <td>verification</td>\n",
       "      <td>/m/016c68</td>\n",
       "      <td>1</td>\n",
       "    </tr>\n",
       "  </tbody>\n",
       "</table>\n",
       "</div>"
      ]
     },
     "execution_count": 51,
     "metadata": {},
     "output_type": "execute_result"
    }
   ],
   "source": [
    "train_human_labels_trainable = train_human_labels[train_human_labels['LabelName'].isin(classes_trainable['label_code'])]\n",
    "train_machine_labels_trainable = train_machine_labels[train_machine_labels['LabelName'].isin(classes_trainable['label_code'])]"
   ]
  },
  {
   "cell_type": "code",
   "execution_count": 20,
   "metadata": {},
   "outputs": [
    {
     "name": "stdout",
     "output_type": "stream",
     "text": [
      "len(train_human_labels_trainable) = 7117742\nlen(train_machine_labels_trainable) = 13409172\n"
     ]
    }
   ],
   "source": [
    "print('len(train_human_labels_trainable) = {}'.format(len(train_human_labels_trainable)))\n",
    "print('len(train_machine_labels_trainable) = {}'.format(len(train_machine_labels_trainable)))"
   ]
  },
  {
   "cell_type": "code",
   "execution_count": 52,
   "metadata": {},
   "outputs": [],
   "source": [
    "train_human_labels_trainable.to_csv(r'\\\\ger\\ec\\proj\\ha\\RSG\\FacePublicDatasets\\OpenImages\\InclusiveChallenge\\docs\\train_human_labels_trainable.csv', index=False)\n",
    "train_machine_labels_trainable.to_csv(r'\\\\ger\\ec\\proj\\ha\\RSG\\FacePublicDatasets\\OpenImages\\InclusiveChallenge\\docs\\train_machine_labels_trainable.csv', index=False)"
   ]
  },
  {
   "cell_type": "markdown",
   "metadata": {},
   "source": [
    "### Create files with top trainable lables (10/100)"
   ]
  },
  {
   "cell_type": "code",
   "execution_count": 32,
   "metadata": {},
   "outputs": [],
   "source": [
    "top_10_labels = train_human_labels_values_count.head(10)\n",
    "top_100_lables = train_human_labels_values_count.head(100)"
   ]
  },
  {
   "cell_type": "code",
   "execution_count": 48,
   "metadata": {
    "collapsed": false
   },
   "outputs": [],
   "source": [
    "train_human_labels_trainable_top_10 = train_human_labels_trainable[train_human_labels_trainable['LabelName'].isin(list(top_10_labels.index))]\n",
    "train_human_labels_trainable_top_100 = train_human_labels_trainable[train_human_labels_trainable['LabelName'].isin(list(top_100_labels.index))]"
   ]
  },
  {
   "cell_type": "code",
   "execution_count": 54,
   "metadata": {},
   "outputs": [],
   "source": [
    "train_human_labels_trainable_top_10.to_csv(r'\\\\ger\\ec\\proj\\ha\\RSG\\FacePublicDatasets\\OpenImages\\InclusiveChallenge\\docs\\train_human_labels_trainable_top_10.csv', index=False)\n",
    "train_human_labels_trainable_top_100.to_csv(r'\\\\ger\\ec\\proj\\ha\\RSG\\FacePublicDatasets\\OpenImages\\InclusiveChallenge\\docs\\train_human_labels_trainable_top_100.csv', index=False)"
   ]
  },
  {
   "cell_type": "code",
   "execution_count": null,
   "metadata": {},
   "outputs": [],
   "source": []
  }
 ],
 "metadata": {
  "kernelspec": {
   "display_name": "Python 2",
   "language": "python",
   "name": "python2"
  },
  "language_info": {
   "codemirror_mode": {
    "name": "ipython",
    "version": 2
   },
   "file_extension": ".py",
   "mimetype": "text/x-python",
   "name": "python",
   "nbconvert_exporter": "python",
   "pygments_lexer": "ipython2",
   "version": "2.7.6"
  }
 },
 "nbformat": 4,
 "nbformat_minor": 0
}

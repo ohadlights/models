{
 "cells": [
  {
   "cell_type": "markdown",
   "metadata": {
    "collapsed": true
   },
   "source": [
    "### Imports"
   ]
  },
  {
   "cell_type": "code",
   "execution_count": 55,
   "metadata": {
    "collapsed": true
   },
   "outputs": [],
   "source": [
    "import os\n",
    "import pandas as pd\n",
    "import matplotlib.pyplot as plt\n",
    "%matplotlib inline"
   ]
  },
  {
   "cell_type": "markdown",
   "metadata": {
    "collapsed": true
   },
   "source": [
    "### Load data files\n"
   ]
  },
  {
   "cell_type": "code",
   "execution_count": 2,
   "metadata": {},
   "outputs": [],
   "source": [
    "classes_trainable = pd.read_csv(r'\\\\ger\\ec\\proj\\ha\\RSG\\FacePublicDatasets\\OpenImages\\InclusiveChallenge\\docs\\classes-trainable.csv')\n",
    "class_descriptions = pd.read_csv(r'\\\\ger\\ec\\proj\\ha\\RSG\\FacePublicDatasets\\OpenImages\\InclusiveChallenge\\docs\\class-descriptions.csv')\n",
    "train_human_labels = pd.read_csv(r'\\\\ger\\ec\\proj\\ha\\RSG\\FacePublicDatasets\\OpenImages\\InclusiveChallenge\\docs\\train_human_labels.csv')\n",
    "train_machine_labels = pd.read_csv(r'\\\\ger\\ec\\proj\\ha\\RSG\\FacePublicDatasets\\OpenImages\\InclusiveChallenge\\docs\\train_machine_labels.csv')\n",
    "train_bounding_boxes = pd.read_csv(r'\\\\ger\\ec\\proj\\ha\\RSG\\FacePublicDatasets\\OpenImages\\InclusiveChallenge\\docs\\train_bounding_boxes.csv')"
   ]
  },
  {
   "cell_type": "markdown",
   "metadata": {
    "collapsed": true
   },
   "source": [
    "### Analyze"
   ]
  },
  {
   "cell_type": "code",
   "execution_count": 4,
   "metadata": {},
   "outputs": [
    {
     "name": "stdout",
     "output_type": "stream",
     "text": [
      "len(classes_trainable) = 7178\n\n    label_code\n0  /m/0108_09c\n1    /m/010dmf\n2    /m/010jjr\n3    /m/010l12\n4  /m/010lq47b\n"
     ]
    }
   ],
   "source": [
    "print('len(classes_trainable) = {}\\n'.format(len(classes_trainable)))\n",
    "print(classes_trainable.head())"
   ]
  },
  {
   "cell_type": "code",
   "execution_count": 11,
   "metadata": {},
   "outputs": [
    {
     "name": "stdout",
     "output_type": "stream",
     "text": [
      "len(class description) = 19987\n\n    label_code          description\n0  /m/0100nhbf     Sprenger's tulip\n1  /m/0104x9kv             Vinegret\n2  /m/0105jzwx            Dabu-dabu\n3  /m/0105ld7g  Pistachio ice cream\n4  /m/0105lxy5                 Woku\n"
     ]
    }
   ],
   "source": [
    "print('len(class description) = {}\\n'.format(len(class_descriptions)))\n",
    "print(class_descriptions.head())"
   ]
  },
  {
   "cell_type": "code",
   "execution_count": 11,
   "metadata": {},
   "outputs": [
    {
     "name": "stdout",
     "output_type": "stream",
     "text": [
      "len(train_human_labels) = 8036466"
     ]
    },
    {
     "name": "stdout",
     "output_type": "stream",
     "text": [
      "\nlen(train_machine_labels) = 15259186\n\n\n            ImageID                    Source  LabelName  Confidence\n0  000002b66c9c498e  crowdsource-verification  /m/01kcnl           1\n1  000002b66c9c498e              verification   /m/012mj           1\n2  000002b66c9c498e              verification  /m/012yh1           1\n3  000002b66c9c498e              verification  /m/014sv8           1\n4  000002b66c9c498e              verification  /m/016c68           1\n\n\n            ImageID   Source   LabelName  Confidence\n0  000002b66c9c498e  machine    /m/05_4_         0.7\n1  000002b66c9c498e  machine    /m/0krfg         0.7\n2  000002b66c9c498e  machine   /m/01kcnl         0.5\n3  000002b97e5471a0  machine  /m/05_5t0l         0.9\n4  000002b97e5471a0  machine    /m/0cgh4         0.8\n"
     ]
    }
   ],
   "source": [
    "print('len(train_human_labels) = {}'.format(len(train_human_labels)))\n",
    "print('len(train_machine_labels) = {}'.format(len(train_machine_labels)))\n",
    "print('\\n')\n",
    "print(train_human_labels.head())\n",
    "print('\\n')\n",
    "print(train_machine_labels.head())"
   ]
  },
  {
   "cell_type": "markdown",
   "metadata": {},
   "source": [
    "### Take annotations only for trainable labels"
   ]
  },
  {
   "cell_type": "code",
   "execution_count": 73,
   "metadata": {},
   "outputs": [],
   "source": [
    "train_human_labels_trainable = train_human_labels[train_human_labels['LabelName'].isin(classes_trainable['label_code'])]\n",
    "train_machine_labels_trainable = train_machine_labels[train_machine_labels['LabelName'].isin(classes_trainable['label_code'])]"
   ]
  },
  {
   "cell_type": "markdown",
   "metadata": {},
   "source": [
    "### Labels distribution"
   ]
  },
  {
   "cell_type": "code",
   "execution_count": 12,
   "metadata": {},
   "outputs": [
    {
     "name": "stdout",
     "output_type": "stream",
     "text": [
      "/m/01g317    807090\n/m/09j2d     610840\n/m/0dzct     331942\n/m/07j7r     315026\n/m/05s2s     266978\nName: LabelName, dtype: int64\n"
     ]
    }
   ],
   "source": [
    "train_human_labels_values_count = train_human_labels_trainable['LabelName'].value_counts()\n",
    "print(train_human_labels_values_count.head())"
   ]
  },
  {
   "cell_type": "code",
   "execution_count": 42,
   "metadata": {},
   "outputs": [
    {
     "data": {
      "text/plain": [
       "<matplotlib.axes._subplots.AxesSubplot at 0x20496a227f0>"
      ]
     },
     "execution_count": 42,
     "metadata": {},
     "output_type": "execute_result"
    },
    {
     "data": {
      "image/png": "[encoded data removed]",
      "text/plain": [
       "<Figure size 432x288 with 1 Axes>"
      ]
     },
     "metadata": {},
     "output_type": "display_data"
    }
   ],
   "source": [
    "train_human_labels_values_count.hist()"
   ]
  },
  {
   "cell_type": "code",
   "execution_count": 63,
   "metadata": {},
   "outputs": [
    {
     "name": "stdout",
     "output_type": "stream",
     "text": [
      "Labels with over 100K instances: 11\n"
     ]
    },
    {
     "data": {
      "text/plain": [
       "<matplotlib.axes._subplots.AxesSubplot at 0x20497c2e198>"
      ]
     },
     "execution_count": 63,
     "metadata": {},
     "output_type": "execute_result"
    },
    {
     "data": {
      "image/png": "[encoded data removed]",
      "text/plain": [
       "<Figure size 432x288 with 1 Axes>"
      ]
     },
     "metadata": {},
     "output_type": "display_data"
    }
   ],
   "source": [
    "train_human_labels_values_count_more_100k = train_human_labels_values_count[train_human_labels_values_count >= 100000]\n",
    "print('Labels with over 100K instances: {}'.format(len(train_human_labels_values_count_more_100k)))\n",
    "train_human_labels_values_count_more_100k.hist()"
   ]
  },
  {
   "cell_type": "code",
   "execution_count": 64,
   "metadata": {},
   "outputs": [
    {
     "name": "stdout",
     "output_type": "stream",
     "text": [
      "Labels with between 10K and 100K instances: 83\n"
     ]
    },
    {
     "data": {
      "text/plain": [
       "<matplotlib.axes._subplots.AxesSubplot at 0x20497db4f98>"
      ]
     },
     "execution_count": 64,
     "metadata": {},
     "output_type": "execute_result"
    },
    {
     "data": {
      "image/png": "[encoded data removed]",
      "text/plain": [
       "<Figure size 432x288 with 1 Axes>"
      ]
     },
     "metadata": {},
     "output_type": "display_data"
    }
   ],
   "source": [
    "train_human_labels_values_in_10K_100k = train_human_labels_values_count[(train_human_labels_values_count >= 10000) & (train_human_labels_values_count < 100000)]\n",
    "print('Labels with between 10K and 100K instances: {}'.format(len(train_human_labels_values_in_10K_100k)))\n",
    "train_human_labels_values_in_10K_100k.hist()"
   ]
  },
  {
   "cell_type": "code",
   "execution_count": 65,
   "metadata": {},
   "outputs": [
    {
     "name": "stdout",
     "output_type": "stream",
     "text": [
      "Labels with between 1K and 10K instances: 242\n"
     ]
    },
    {
     "data": {
      "text/plain": [
       "<matplotlib.axes._subplots.AxesSubplot at 0x20497e28eb8>"
      ]
     },
     "execution_count": 65,
     "metadata": {},
     "output_type": "execute_result"
    },
    {
     "data": {
      "image/png": "[encoded data removed]",
      "text/plain": [
       "<Figure size 432x288 with 1 Axes>"
      ]
     },
     "metadata": {},
     "output_type": "display_data"
    }
   ],
   "source": [
    "train_human_labels_values_count_in_1K_10K = train_human_labels_values_count[(train_human_labels_values_count >= 1000) & (train_human_labels_values_count < 10000)]\n",
    "print('Labels with between 1K and 10K instances: {}'.format(len(train_human_labels_values_count_in_1K_10K)))\n",
    "train_human_labels_values_count_in_1K_10K.hist()"
   ]
  },
  {
   "cell_type": "code",
   "execution_count": 66,
   "metadata": {},
   "outputs": [
    {
     "name": "stdout",
     "output_type": "stream",
     "text": [
      "Labels with between 100 and 1K instances: 2755\n"
     ]
    },
    {
     "data": {
      "text/plain": [
       "<matplotlib.axes._subplots.AxesSubplot at 0x20497e9a128>"
      ]
     },
     "execution_count": 66,
     "metadata": {},
     "output_type": "execute_result"
    },
    {
     "data": {
      "image/png": "[encoded data removed]",
      "text/plain": [
       "<Figure size 432x288 with 1 Axes>"
      ]
     },
     "metadata": {},
     "output_type": "display_data"
    }
   ],
   "source": [
    "train_human_labels_values_count_in_100_1K = train_human_labels_values_count[(train_human_labels_values_count >= 100) & (train_human_labels_values_count < 1000)]\n",
    "print('Labels with between 100 and 1K instances: {}'.format(len(train_human_labels_values_count_in_100_1K)))\n",
    "train_human_labels_values_count_in_100_1K.hist()"
   ]
  },
  {
   "cell_type": "code",
   "execution_count": 67,
   "metadata": {},
   "outputs": [
    {
     "name": "stdout",
     "output_type": "stream",
     "text": [
      "Labels with between 50 and 100 instances: 2079\n"
     ]
    },
    {
     "data": {
      "text/plain": [
       "<matplotlib.axes._subplots.AxesSubplot at 0x20497efae10>"
      ]
     },
     "execution_count": 67,
     "metadata": {},
     "output_type": "execute_result"
    },
    {
     "data": {
      "image/png": "[encoded data removed]",
      "text/plain": [
       "<Figure size 432x288 with 1 Axes>"
      ]
     },
     "metadata": {},
     "output_type": "display_data"
    }
   ],
   "source": [
    "train_human_labels_values_count_in_50_100 = train_human_labels_values_count[(train_human_labels_values_count >= 50) & (train_human_labels_values_count < 100)]\n",
    "print('Labels with between 50 and 100 instances: {}'.format(len(train_human_labels_values_count_in_50_100)))\n",
    "train_human_labels_values_count_in_50_100.hist()"
   ]
  },
  {
   "cell_type": "code",
   "execution_count": 68,
   "metadata": {},
   "outputs": [
    {
     "name": "stdout",
     "output_type": "stream",
     "text": [
      "Labels with less 50 instances: 2002\n"
     ]
    },
    {
     "data": {
      "text/plain": [
       "<matplotlib.axes._subplots.AxesSubplot at 0x2049825ff28>"
      ]
     },
     "execution_count": 68,
     "metadata": {},
     "output_type": "execute_result"
    },
    {
     "data": {
      "image/png": "[encoded data removed]",
      "text/plain": [
       "<Figure size 432x288 with 1 Axes>"
      ]
     },
     "metadata": {},
     "output_type": "display_data"
    }
   ],
   "source": [
    "train_human_labels_values_count_less_50 = train_human_labels_values_count[(train_human_labels_values_count < 50)]\n",
    "print('Labels with less 50 instances: {}'.format(len(train_human_labels_values_count_less_50)))\n",
    "train_human_labels_values_count_less_50.hist()"
   ]
  },
  {
   "cell_type": "markdown",
   "metadata": {},
   "source": [
    "### Create train files for label ranges"
   ]
  },
  {
   "cell_type": "code",
   "execution_count": 69,
   "metadata": {},
   "outputs": [],
   "source": [
    "def save_descriptions_file(series, file_name):\n",
    "    series_class_descriptions = class_descriptions.merge(series.to_frame(), left_on='label_code', right_index=True, how='inner')\n",
    "    series_class_descriptions.drop(columns=['LabelName'], inplace=True)\n",
    "    print(series_class_descriptions)\n",
    "    series_class_descriptions.to_csv(os.path.join(r'\\\\ger\\ec\\proj\\ha\\RSG\\FacePublicDatasets\\OpenImages\\InclusiveChallenge\\docs', file_name),\n",
    "                                     index=False, header=False)"
   ]
  },
  {
   "cell_type": "code",
   "execution_count": 70,
   "metadata": {},
   "outputs": [],
   "source": [
    "def save_train_files(series, file_name):\n",
    "    series_train_human_labels_trainable = train_human_labels_trainable[train_human_labels_trainable['LabelName'].isin(series.index)]\n",
    "    print('len(file_name) = {}'.format(len(series_train_human_labels_trainable)))\n",
    "    series_train_human_labels_trainable.to_csv(os.path.join(r'\\\\ger\\ec\\proj\\ha\\RSG\\FacePublicDatasets\\OpenImages\\InclusiveChallenge\\docs', file_name), index=False)"
   ]
  },
  {
   "cell_type": "code",
   "execution_count": 75,
   "metadata": {},
   "outputs": [],
   "source": [
    "def create_train_files(series, series_name):\n",
    "    save_descriptions_file(series, 'class-descriptions_{}.csv'.format(series_name))\n",
    "    save_train_files(series, 'train_human_labels_trainable_{}.csv'.format(series_name))"
   ]
  },
  {
   "cell_type": "code",
   "execution_count": 77,
   "metadata": {},
   "outputs": [
    {
     "name": "stdout",
     "output_type": "stream",
     "text": [
      "       label_code    description\n198     /m/013_1c         Statue\n216     /m/0138tl            Toy\n311     /m/014sv8      Human eye\n390      /m/015p6           Bird\n572     /m/017ftj     Sunglasses\n748      /m/0199g        Bicycle\n769      /m/019jd           Boat\n779     /m/019nj4          Smile\n865     /m/01bgsw        Toddler\n868     /m/01_bhs      Fast food\n870      /m/01bjv            Bus\n889     /m/01bqk0  Bicycle wheel\n892     /m/01bqvp            Sky\n947     /m/01c648         Laptop\n1026    /m/01d40f          Dress\n1151    /m/01fdzj          Tower\n1441    /m/01jddz        Concert\n1678     /m/01lrl      Carnivore\n1706     /m/01m3v       Computer\n1748    /m/01mzpv          Chair\n1770    /m/01n5jq         Poster\n2113    /m/01rzcn     Watercraft\n2442    /m/01ww8y          Snack\n2560    /m/01xyhv           Suit\n2624     /m/01yrx            Cat\n2846     /m/0215n        Cartoon\n3510     /m/026bk          Dance\n3745     /m/0270h        Dessert\n3754     /m/0271t          Drink\n4127   /m/0283dt1    Human mouth\n...           ...            ...\n12684    /m/06_dn           Snow\n12921    /m/06msq      Sculpture\n13009    /m/06q74           Ship\n13604    /m/079cl     Skyscraper\n13806    /m/07jdr          Train\n13920    /m/07mhn       Trousers\n14312    /m/0838f          Water\n14329    /m/083wq          Wheel\n14527   /m/08dz3q      Auto part\n15113    /m/09d_r       Mountain\n15616    /m/0b3yr          Beach\n16052   /m/0bt9lr            Dog\n16054   /m/0bt_c3           Book\n16364   /m/0c9ph5         Flower\n16417    /m/0cdl1      Palm tree\n16523    /m/0c_jw      Furniture\n16587    /m/0cmf2       Airplane\n16697    /m/0csby          Cloud\n16878    /m/0d4v4         Window\n17407    /m/0dzf4      Human arm\n17497   /m/0f4s2w      Vegetable\n17709    /m/0fly7          Jeans\n19021    /m/0h9mv           Tire\n19042    /m/0hg7b     Microphone\n19379    /m/0jnvp           Baby\n19429    /m/0jyfg        Glasses\n19442    /m/0k0pj     Human nose\n19470     /m/0k5j       Aircraft\n19478    /m/0k65p     Human hand\n19986    /m/0zvk5         Helmet\n\n[83 rows x 2 columns]\n"
     ]
    },
    {
     "name": "stdout",
     "output_type": "stream",
     "text": [
      "len(file_name) = 2224091\n"
     ]
    },
    {
     "name": "stdout",
     "output_type": "stream",
     "text": [
      "       label_code                  description\n44      /m/011k07                     Tortoise\n80      /m/01226z                     Football\n139     /m/012n4x                  Firefighter\n159     /m/012v4j                       Hiking\n196     /m/0130jx                         Sink\n251     /m/013xlm                      Tractor\n283      /m/0149r                     Aquarium\n294     /m/014j1m                        Apple\n313     /m/014trl                    Cosmetics\n321     /m/014y4n                       Paddle\n356      /m/01599                         Beer\n369     /m/015h_t                  Human beard\n394     /m/015qff                Traffic light\n440     /m/0167gd                         Doll\n483     /m/016m2d                        Skull\n533     /m/0174n1                        Glove\n666      /m/018jz                     Baseball\n676     /m/018p4k                         Cart\n698      /m/018w8                   Basketball\n703      /m/018xm                         Ball\n758     /m/019dx1               Home appliance\n802     /m/019w40                    Surfboard\n831     /m/01b638                         Boot\n835     /m/01b7fy                   Headphones\n854     /m/01bfm9                       Shorts\n1092     /m/01dws                         Bear\n1251    /m/01gkx_                     Swimwear\n1264    /m/01gmv2                    Brassiere\n1286    /m/01h_1n                   Playground\n1292     /m/01h3n                          Bee\n...           ...                          ...\n17767   /m/0fqfqc                       Drawer\n17813    /m/0fszt                         Cake\n17817    /m/0ft9s                    Dragonfly\n17818    /m/0ftb8                    Sunflower\n17935    /m/0g2z8                          Fog\n18053    /m/0gd2v                Marine mammal\n18145  /m/0gjbg72                        Shelf\n18156    /m/0gjkl                        Watch\n18180  /m/0gkxy13                  Handwriting\n18273    /m/0grw1                        Salad\n18316    /m/0gv1x                       Parrot\n18451    /m/0h23m                      Sparrow\n18458    /m/0h2r6                          Van\n18460    /m/0h36z                     Cemetery\n18791  /m/0h8mhzd               Sports uniform\n18877  /m/0h8n5zk  Kitchen & dining room table\n19018  /m/0h99cwc            Kitchen appliance\n19038  /m/0hf58v5             Luggage and bags\n19180    /m/0hnnb                     Umbrella\n19188    /m/0hnyx                       Pastry\n19271    /m/0j2kx                    Waterfall\n19362     /m/0jjw                          Art\n19387    /m/0jqgx                         Lily\n19448    /m/0k1tl                          Pen\n19528    /m/0kmg4                   Teddy bear\n19583    /m/0l515                     Sandwich\n19627    /m/0ltfs                        Bride\n19801    /m/0pg52                         Taxi\n19807    /m/0ph39                        Canoe\n19872  /m/0sgh53y                       Selfie\n\n[242 rows x 2 columns]\n"
     ]
    },
    {
     "name": "stdout",
     "output_type": "stream",
     "text": [
      "len(file_name) = 729943\n"
     ]
    },
    {
     "name": "stdout",
     "output_type": "stream",
     "text": [
      "        label_code                description\n10       /m/010jjr             Amusement park\n13     /m/010ls_cv           Sandwich Cookies\n17       /m/01_12b               Granny smith\n24        /m/0117z                   Air show\n26     /m/0118ms9c              Reflex camera\n27     /m/0118n_9r               Water bottle\n31     /m/0119x1zy                        Bun\n37       /m/011_dp              Membranophone\n38       /m/011_f4          String instrument\n39       /m/011_g9            Wind instrument\n41       /m/011jbn                      Gourd\n47       /m/011l78                       Team\n55       /m/011_my                  Idiophone\n58        /m/011s0                Advertising\n67       /m/011y23              Stained glass\n68       /m/011yvr                 Plantation\n73       /m/012074                     Magpie\n74       /m/0120dh                 Sea turtle\n76       /m/0121tl      Electronic instrument\n78       /m/01224j                     Hearth\n84       /m/01240d                      Tuber\n93       /m/0126gc                   Reindeer\n97       /m/0127n5                     Mussel\n98       /m/01280g                   Wildlife\n99       /m/01295w                Galliformes\n105      /m/012c4n                  Cucurbita\n106      /m/012c9l  Domestic short-haired cat\n110    /m/012crnhf          Sheep milk cheese\n112      /m/012f08              Motor vehicle\n114      /m/012fyw                    Air gun\n...            ...                        ...\n19806     /m/0pgl9         Tourist attraction\n19818     /m/0pvlz                    Wetland\n19822     /m/0py27              Train station\n19834     /m/0q5dv           Defensive tackle\n19838     /m/0qb7t               Organization\n19842     /m/0qjjc             Remote control\n19848     /m/0ql23                 Pollinator\n19856     /m/0qmmr                 Wheelchair\n19869   /m/0rytcc5            Strapless dress\n19878     /m/0swq_             Nature reserve\n19882     /m/0sxvh           Animal migration\n19883     /m/0sx_x                        Fen\n19891     /m/0_tbv                     Dinghy\n19893      /m/0vg8                    Airline\n19894     /m/0vj4g                       Heel\n19898     /m/0vlys                Tower block\n19906      /m/0w0d                    Archery\n19914      /m/0w7s      Aerospace engineering\n19919   /m/0wdt60w                 Rugby ball\n19922   /m/0wfrc8w              Animal sports\n19924   /m/0wgq69z           Precision sports\n19926   /m/0wgq6y7     Striking combat sports\n19931   /m/0wgq8gt                 Dog sports\n19932   /m/0wgq98_                    Skating\n19933   /m/0wgys6n       Stick and Ball Games\n19943      /m/0x44                     Armour\n19945     /m/0xc3w                   Spa town\n19964      /m/0y8r                Armored car\n19969     /m/0ytgt                      Child\n19980      /m/0zkm                  Arthropod\n\n[2755 rows x 2 columns]\n"
     ]
    },
    {
     "name": "stdout",
     "output_type": "stream",
     "text": [
      "len(file_name) = 679850\n"
     ]
    },
    {
     "name": "stdout",
     "output_type": "stream",
     "text": [
      "        label_code           description\n9        /m/010dmf        Isle of man tt\n30     /m/01195jk4            Jean short\n35     /m/011bc8hg              Camomile\n54        /m/011lx         Acrylic paint\n62       /m/011xdj              Meringue\n71       /m/012047             Narcissus\n75       /m/0121d8        Historic house\n81       /m/0122b5             Newsprint\n83       /m/0123gb                 Egret\n89       /m/0125ny         Lake district\n94       /m/012757      Fluorescent lamp\n100      /m/0129f4     Chemical compound\n116      /m/012h24                Comics\n124      /m/012k6q                Ocicat\n132      /m/012m47      Chinese new year\n148      /m/012q_x           Coast guard\n161      /m/012v8q                   Bog\n162      /m/012vt9              Flautist\n165      /m/012vzz       Plant pathology\n169      /m/012ww9   Archaeological site\n188      /m/012y1_                  Soba\n191      /m/012ysf               Syringe\n211    /m/0134zdgk      Multigrain bread\n218      /m/01399x            Pipe organ\n221      /m/013btk                  Lark\n225      /m/01_3kg      Great horned owl\n234      /m/013r_l          Green iguana\n254      /m/013yjr                Ensete\n263      /m/0142t_                  Moat\n264      /m/0142vg                  Sled\n...            ...                   ...\n19815     /m/0ptsp     Halloween costume\n19826     /m/0q0d2             Thatching\n19839   /m/0_qd2q8                 Mouna\n19847   /m/0_qksy6        New york aster\n19855     /m/0qmh4              Brassica\n19866     /m/0rcp1      Mountain village\n19873     /m/0svg9               Paprika\n19877   /m/0swpk6b              Rickshaw\n19884     /m/0sy84          Stately home\n19897     /m/0vllx                  Barn\n19900   /m/0_vpmtw        Dark chocolate\n19909      /m/0w2h             Arbor day\n19910      /m/0w7c                Acting\n19912   /m/0w7q2wc          Dame blanche\n19913   /m/0w7qcy1        Mountain river\n19915   /m/0w88xth   Multimedia software\n19923   /m/0wgq355           Kite sports\n19925   /m/0wgq6rw  Weapon combat sports\n19927   /m/0wgq7cl              Skirmish\n19938   /m/0x1x_ds     Saucisson de lyon\n19944      /m/0x6r                 Angel\n19947   /m/0xm0m9r             Chevrolet\n19948   /m/0xn56pv       Standard Poodle\n19949   /m/0xn59p7      Miniature Poodle\n19952      /m/0xsc      Aircraft carrier\n19957     /m/0y3v9                Gothic\n19963     /m/0y75l                  Punk\n19971      /m/0z2y     Analog television\n19978   /m/0zg7256     Gingerbread house\n19982   /m/0zrpfhj              Throwing\n\n[2079 rows x 2 columns]\n"
     ]
    },
    {
     "name": "stdout",
     "output_type": "stream",
     "text": [
      "len(file_name) = 147765\n"
     ]
    },
    {
     "name": "stdout",
     "output_type": "stream",
     "text": [
      "        label_code               description\n7      /m/0108_09c          Summer snowflake\n11       /m/010l12            Roller coaster\n12     /m/010lq47b                 Witch hat\n16        /m/01127          Air conditioning\n21     /m/0117_25k            Saffron crocus\n32     /m/0119x27p            Cocker spaniel\n36     /m/011bfkzx                  Beaglier\n42       /m/011jng                     Fiber\n43       /m/011jxn                   Lasagne\n49       /m/011_lb                     Vespa\n50     /m/011lf0ff                Mardi Gras\n70       /m/012015                Stone tool\n72       /m/01205h                    Ferret\n87       /m/0124h9                Poinsettia\n108      /m/012ckm                   Bonfire\n111      /m/012d_c                Blacksmith\n117      /m/012hvb                    Corset\n125    /m/012kcmdn                   Pyronia\n137      /m/012mqx                   Iceberg\n149      /m/012qyb                    Barber\n151      /m/012rq8                  Treasure\n171      /m/012x5p                     Bento\n175      /m/012xb8                  Nabemono\n179      /m/012xhn                 Slam dunk\n186      /m/012xzr                   Tempura\n192      /m/012z2g                    Volute\n213      /m/013__5                      Leek\n214      /m/0137k8                Boeing 737\n215      /m/01384_                       Jam\n224      /m/01_3j6               Pumpkin pie\n...            ...                       ...\n19751   /m/0ndxc_6    Round leaved liverleaf\n19753     /m/0ngt1                   Thunder\n19757     /m/0nkr2               Sheet music\n19764     /m/0nqm4               Radiography\n19765     /m/0nr94             Bichon frisÃ©\n19770     /m/0p23_                  Nautilus\n19772     /m/0p29m             Bailey bridge\n19776     /m/0p6vc                     Joker\n19779      /m/0p7h                  Amethyst\n19795   /m/0pcvyk2                       Nem\n19814     /m/0prp3            Egg decorating\n19832     /m/0q56v           Game controller\n19837     /m/0q9n3      Micromeria douglasii\n19840     /m/0qf0c              Buffalo wing\n19843     /m/0qjt6                    Gibbon\n19845     /m/0qk4n              Ford mustang\n19851     /m/0qlx1           Distilled water\n19871     /m/0sc7q              Wonder Woman\n19886     /m/0sysm             Pitcher plant\n19887     /m/0sysz         Carnivorous plant\n19889   /m/0t52nhp                       Feu\n19901   /m/0vpsd3h      Television presenter\n19939   /m/0x1y1w8               SalchichÃ³n\n19950   /m/0xn5dj9                Toy Poodle\n19954      /m/0y09                 Analgesic\n19955      /m/0y0r   Amphibious warfare ship\n19966   /m/0_yjnp6         Pappa al pomodoro\n19973     /m/0z71l                     Storm\n19981      /m/0zlm  Conservation-restoration\n19984   /m/0zrthkd                     Brine\n\n[2002 rows x 2 columns]\n"
     ]
    },
    {
     "name": "stdout",
     "output_type": "stream",
     "text": [
      "len(file_name) = 66544\n"
     ]
    }
   ],
   "source": [
    "create_train_files(train_human_labels_values_count_more_100k, 'more_100k')\n",
    "create_train_files(train_human_labels_values_in_10K_100k, 'in_10K_100k')\n",
    "create_train_files(train_human_labels_values_count_in_1K_10K, 'in_1K_10K')\n",
    "create_train_files(train_human_labels_values_count_in_100_1K, 'in_100_1K')\n",
    "create_train_files(train_human_labels_values_count_in_50_100, 'in_50_100')\n",
    "create_train_files(train_human_labels_values_count_less_50, 'less_50')"
   ]
  },
  {
   "cell_type": "markdown",
   "metadata": {},
   "source": [
    "### Top labels (10/100)"
   ]
  },
  {
   "cell_type": "code",
   "execution_count": null,
   "metadata": {},
   "outputs": [],
   "source": [
    "top_10_labels = train_human_labels_values_count.head(10)\n",
    "top_100_labels = train_human_labels_values_count.head(100)"
   ]
  },
  {
   "cell_type": "markdown",
   "metadata": {},
   "source": [
    "### Class descriptions for top labels"
   ]
  },
  {
   "cell_type": "code",
   "execution_count": 100,
   "metadata": {},
   "outputs": [
    {
     "name": "stdout",
     "output_type": "stream",
     "text": [
      "      label_code   description\n1206   /m/01g317        Person\n1924   /m/01prls  Land vehicle\n11909   /m/05s2s         Plant\n13801   /m/07j7r          Tree\n14184   /m/07yv9       Vehicle\n15243   /m/09j2d      Clothing\n15245   /m/09j5n      Footwear\n16452   /m/0cgh4      Building\n17402   /m/0dzct    Human face\n19338    /m/0jbk        Animal\n"
     ]
    }
   ],
   "source": [
    "class_descriptions_top_10 = class_descriptions.merge(top_10_labels.to_frame(), left_on='label_code', right_index=True, how='inner')\n",
    "class_descriptions_top_10.drop(columns=['LabelName'], inplace=True)\n",
    "print(class_descriptions_top_10)\n",
    "class_descriptions_top_10.to_csv(r'\\\\ger\\ec\\proj\\ha\\RSG\\FacePublicDatasets\\OpenImages\\InclusiveChallenge\\docs\\class-descriptions_top_10.csv', index=False, header=False)"
   ]
  },
  {
   "cell_type": "code",
   "execution_count": 101,
   "metadata": {},
   "outputs": [
    {
     "name": "stdout",
     "output_type": "stream",
     "text": [
      "len(class_descriptions_top_100) = 100\n"
     ]
    }
   ],
   "source": [
    "class_descriptions_top_100 = class_descriptions.merge(top_100_labels.to_frame(), left_on='label_code', right_index=True, how='inner')\n",
    "class_descriptions_top_100.drop(columns=['LabelName'], inplace=True)\n",
    "print('len(class_descriptions_top_100) = {}'.format(len(class_descriptions_top_100)))\n",
    "class_descriptions_top_100.to_csv(r'\\\\ger\\ec\\proj\\ha\\RSG\\FacePublicDatasets\\OpenImages\\InclusiveChallenge\\docs\\class-descriptions_top_100.csv', index=False, header=False)"
   ]
  },
  {
   "cell_type": "markdown",
   "metadata": {},
   "source": [
    "### Create files with only trainable labels"
   ]
  },
  {
   "cell_type": "code",
   "execution_count": 102,
   "metadata": {},
   "outputs": [
    {
     "name": "stdout",
     "output_type": "stream",
     "text": [
      "len(train_human_labels_trainable) = 7117742\nlen(train_machine_labels_trainable) = 13409172\n"
     ]
    }
   ],
   "source": [
    "print('len(train_human_labels_trainable) = {}'.format(len(train_human_labels_trainable)))\n",
    "print('len(train_machine_labels_trainable) = {}'.format(len(train_machine_labels_trainable)))"
   ]
  },
  {
   "cell_type": "code",
   "execution_count": 103,
   "metadata": {},
   "outputs": [],
   "source": [
    "train_human_labels_trainable.to_csv(r'\\\\ger\\ec\\proj\\ha\\RSG\\FacePublicDatasets\\OpenImages\\InclusiveChallenge\\docs\\train_human_labels_trainable.csv', index=False)\n",
    "train_machine_labels_trainable.to_csv(r'\\\\ger\\ec\\proj\\ha\\RSG\\FacePublicDatasets\\OpenImages\\InclusiveChallenge\\docs\\train_machine_labels_trainable.csv', index=False)"
   ]
  },
  {
   "cell_type": "markdown",
   "metadata": {},
   "source": [
    "### Create files with top trainable lables (10/100)"
   ]
  },
  {
   "cell_type": "code",
   "execution_count": 105,
   "metadata": {},
   "outputs": [
    {
     "name": "stdout",
     "output_type": "stream",
     "text": [
      "len(train_human_labels_trainable_top_10) = 3166864\n"
     ]
    }
   ],
   "source": [
    "train_human_labels_trainable_top_10 = train_human_labels_trainable[train_human_labels_trainable['LabelName'].isin(top_10_labels.index)]\n",
    "print('len(train_human_labels_trainable_top_10) = {}'.format(len(train_human_labels_trainable_top_10)))"
   ]
  },
  {
   "cell_type": "code",
   "execution_count": 107,
   "metadata": {},
   "outputs": [
    {
     "name": "stdout",
     "output_type": "stream",
     "text": [
      "len(train_human_labels_trainable_top_10) = 5549576\n"
     ]
    }
   ],
   "source": [
    "train_human_labels_trainable_top_100 = train_human_labels_trainable[train_human_labels_trainable['LabelName'].isin(top_100_labels.index)]\n",
    "print('len(train_human_labels_trainable_top_100) = {}'.format(len(train_human_labels_trainable_top_100)))"
   ]
  },
  {
   "cell_type": "code",
   "execution_count": 108,
   "metadata": {},
   "outputs": [],
   "source": [
    "train_human_labels_trainable_top_10.to_csv(r'\\\\ger\\ec\\proj\\ha\\RSG\\FacePublicDatasets\\OpenImages\\InclusiveChallenge\\docs\\train_human_labels_trainable_top_10.csv', index=False)\n",
    "train_human_labels_trainable_top_100.to_csv(r'\\\\ger\\ec\\proj\\ha\\RSG\\FacePublicDatasets\\OpenImages\\InclusiveChallenge\\docs\\train_human_labels_trainable_top_100.csv', index=False)"
   ]
  },
  {
   "cell_type": "code",
   "execution_count": null,
   "metadata": {},
   "outputs": [],
   "source": []
  }
 ],
 "metadata": {
  "kernelspec": {
   "display_name": "Python 2",
   "language": "python",
   "name": "python2"
  },
  "language_info": {
   "codemirror_mode": {
    "name": "ipython",
    "version": 2
   },
   "file_extension": ".py",
   "mimetype": "text/x-python",
   "name": "python",
   "nbconvert_exporter": "python",
   "pygments_lexer": "ipython2",
   "version": "2.7.6"
  }
 },
 "nbformat": 4,
 "nbformat_minor": 0
}
